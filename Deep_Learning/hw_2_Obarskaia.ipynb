{
 "cells": [
  {
   "cell_type": "code",
   "execution_count": 2,
   "id": "c38e8fbe",
   "metadata": {},
   "outputs": [],
   "source": [
    "import pandas as pd\n",
    "import numpy as np\n",
    "import matplotlib.pyplot as plt"
   ]
  },
  {
   "cell_type": "code",
   "execution_count": 28,
   "id": "bcade785",
   "metadata": {
    "scrolled": true
   },
   "outputs": [
    {
     "data": {
      "text/html": [
       "<div>\n",
       "<style scoped>\n",
       "    .dataframe tbody tr th:only-of-type {\n",
       "        vertical-align: middle;\n",
       "    }\n",
       "\n",
       "    .dataframe tbody tr th {\n",
       "        vertical-align: top;\n",
       "    }\n",
       "\n",
       "    .dataframe thead th {\n",
       "        text-align: right;\n",
       "    }\n",
       "</style>\n",
       "<table border=\"1\" class=\"dataframe\">\n",
       "  <thead>\n",
       "    <tr style=\"text-align: right;\">\n",
       "      <th></th>\n",
       "      <th>review_id</th>\n",
       "      <th>negative</th>\n",
       "      <th>positive</th>\n",
       "      <th>score</th>\n",
       "    </tr>\n",
       "  </thead>\n",
       "  <tbody>\n",
       "    <tr>\n",
       "      <th>0</th>\n",
       "      <td>00003c6036f30f590c0ac435efb8739b</td>\n",
       "      <td>There were issues with the wifi connection</td>\n",
       "      <td>No Positive</td>\n",
       "      <td>7.1</td>\n",
       "    </tr>\n",
       "    <tr>\n",
       "      <th>1</th>\n",
       "      <td>00004d18f186bf2489590dc415876f73</td>\n",
       "      <td>TV not working</td>\n",
       "      <td>No Positive</td>\n",
       "      <td>7.5</td>\n",
       "    </tr>\n",
       "    <tr>\n",
       "      <th>2</th>\n",
       "      <td>0000cf900cbb8667fad33a717e9b1cf4</td>\n",
       "      <td>More pillows</td>\n",
       "      <td>Beautiful room Great location Lovely staff</td>\n",
       "      <td>10.0</td>\n",
       "    </tr>\n",
       "  </tbody>\n",
       "</table>\n",
       "</div>"
      ],
      "text/plain": [
       "                          review_id  \\\n",
       "0  00003c6036f30f590c0ac435efb8739b   \n",
       "1  00004d18f186bf2489590dc415876f73   \n",
       "2  0000cf900cbb8667fad33a717e9b1cf4   \n",
       "\n",
       "                                      negative  \\\n",
       "0   There were issues with the wifi connection   \n",
       "1                               TV not working   \n",
       "2                                 More pillows   \n",
       "\n",
       "                                       positive  score  \n",
       "0                                   No Positive    7.1  \n",
       "1                                   No Positive    7.5  \n",
       "2   Beautiful room Great location Lovely staff    10.0  "
      ]
     },
     "execution_count": 28,
     "metadata": {},
     "output_type": "execute_result"
    }
   ],
   "source": [
    "df = pd.read_csv('data/train.csv')\n",
    "test_df = pd.read_csv('data/test.csv')\n",
    "df.head(3)"
   ]
  },
  {
   "cell_type": "code",
   "execution_count": 29,
   "id": "8189b15b",
   "metadata": {
    "scrolled": true
   },
   "outputs": [
    {
     "data": {
      "text/html": [
       "<div>\n",
       "<style scoped>\n",
       "    .dataframe tbody tr th:only-of-type {\n",
       "        vertical-align: middle;\n",
       "    }\n",
       "\n",
       "    .dataframe tbody tr th {\n",
       "        vertical-align: top;\n",
       "    }\n",
       "\n",
       "    .dataframe thead th {\n",
       "        text-align: right;\n",
       "    }\n",
       "</style>\n",
       "<table border=\"1\" class=\"dataframe\">\n",
       "  <thead>\n",
       "    <tr style=\"text-align: right;\">\n",
       "      <th></th>\n",
       "      <th>review_id</th>\n",
       "      <th>negative</th>\n",
       "      <th>positive</th>\n",
       "    </tr>\n",
       "  </thead>\n",
       "  <tbody>\n",
       "    <tr>\n",
       "      <th>0</th>\n",
       "      <td>00026f564b258ad5159aab07c357c4ca</td>\n",
       "      <td>Other than the location everything else was h...</td>\n",
       "      <td>Just the location</td>\n",
       "    </tr>\n",
       "    <tr>\n",
       "      <th>1</th>\n",
       "      <td>000278c73da08f4fcb857fcfe4ac6417</td>\n",
       "      <td>No UK TV but this was a minor point as we wer...</td>\n",
       "      <td>Great location very comfortable clean breakfa...</td>\n",
       "    </tr>\n",
       "    <tr>\n",
       "      <th>2</th>\n",
       "      <td>000404f843e756fe3b2a477dbefa5bd4</td>\n",
       "      <td>A tiny noisy room VERY deceptively photographed</td>\n",
       "      <td>The breakfast booked the preceding night but ...</td>\n",
       "    </tr>\n",
       "  </tbody>\n",
       "</table>\n",
       "</div>"
      ],
      "text/plain": [
       "                          review_id  \\\n",
       "0  00026f564b258ad5159aab07c357c4ca   \n",
       "1  000278c73da08f4fcb857fcfe4ac6417   \n",
       "2  000404f843e756fe3b2a477dbefa5bd4   \n",
       "\n",
       "                                            negative  \\\n",
       "0   Other than the location everything else was h...   \n",
       "1   No UK TV but this was a minor point as we wer...   \n",
       "2   A tiny noisy room VERY deceptively photographed    \n",
       "\n",
       "                                            positive  \n",
       "0                                 Just the location   \n",
       "1   Great location very comfortable clean breakfa...  \n",
       "2   The breakfast booked the preceding night but ...  "
      ]
     },
     "execution_count": 29,
     "metadata": {},
     "output_type": "execute_result"
    }
   ],
   "source": [
    "test_df.head(3)"
   ]
  },
  {
   "cell_type": "markdown",
   "id": "d6a93c11",
   "metadata": {},
   "source": [
    "### Text preprocessing "
   ]
  },
  {
   "cell_type": "code",
   "execution_count": 30,
   "id": "27151be7",
   "metadata": {},
   "outputs": [
    {
     "data": {
      "text/html": [
       "<div>\n",
       "<style scoped>\n",
       "    .dataframe tbody tr th:only-of-type {\n",
       "        vertical-align: middle;\n",
       "    }\n",
       "\n",
       "    .dataframe tbody tr th {\n",
       "        vertical-align: top;\n",
       "    }\n",
       "\n",
       "    .dataframe thead th {\n",
       "        text-align: right;\n",
       "    }\n",
       "</style>\n",
       "<table border=\"1\" class=\"dataframe\">\n",
       "  <thead>\n",
       "    <tr style=\"text-align: right;\">\n",
       "      <th></th>\n",
       "      <th>review_id</th>\n",
       "      <th>negative</th>\n",
       "      <th>positive</th>\n",
       "      <th>score</th>\n",
       "      <th>review</th>\n",
       "    </tr>\n",
       "  </thead>\n",
       "  <tbody>\n",
       "    <tr>\n",
       "      <th>0</th>\n",
       "      <td>00003c6036f30f590c0ac435efb8739b</td>\n",
       "      <td>There were issues with the wifi connection</td>\n",
       "      <td>nopositive</td>\n",
       "      <td>7.1</td>\n",
       "      <td>There were issues with the wifi connection no...</td>\n",
       "    </tr>\n",
       "    <tr>\n",
       "      <th>1</th>\n",
       "      <td>00004d18f186bf2489590dc415876f73</td>\n",
       "      <td>TV not working</td>\n",
       "      <td>nopositive</td>\n",
       "      <td>7.5</td>\n",
       "      <td>TV not working nopositive</td>\n",
       "    </tr>\n",
       "    <tr>\n",
       "      <th>2</th>\n",
       "      <td>0000cf900cbb8667fad33a717e9b1cf4</td>\n",
       "      <td>More pillows</td>\n",
       "      <td>Beautiful room Great location Lovely staff</td>\n",
       "      <td>10.0</td>\n",
       "      <td>More pillows  Beautiful room Great location L...</td>\n",
       "    </tr>\n",
       "  </tbody>\n",
       "</table>\n",
       "</div>"
      ],
      "text/plain": [
       "                          review_id  \\\n",
       "0  00003c6036f30f590c0ac435efb8739b   \n",
       "1  00004d18f186bf2489590dc415876f73   \n",
       "2  0000cf900cbb8667fad33a717e9b1cf4   \n",
       "\n",
       "                                      negative  \\\n",
       "0   There were issues with the wifi connection   \n",
       "1                               TV not working   \n",
       "2                                 More pillows   \n",
       "\n",
       "                                       positive  score  \\\n",
       "0                                    nopositive    7.1   \n",
       "1                                    nopositive    7.5   \n",
       "2   Beautiful room Great location Lovely staff    10.0   \n",
       "\n",
       "                                              review  \n",
       "0   There were issues with the wifi connection no...  \n",
       "1                          TV not working nopositive  \n",
       "2   More pillows  Beautiful room Great location L...  "
      ]
     },
     "execution_count": 30,
     "metadata": {},
     "output_type": "execute_result"
    }
   ],
   "source": [
    "df.loc[:, 'positive'] = df.positive.apply(lambda x: x.replace('No Positive', 'nopositive'))\n",
    "df.loc[:, 'negative'] = df.negative.apply(lambda x: x.replace('No Negative', 'nonegative'))\n",
    "df['review'] = df.negative + ' ' + df.positive \n",
    "\n",
    "test_df.loc[:, 'positive'] = test_df.positive.apply(lambda x: x.replace('No Positive', 'nopositive'))\n",
    "test_df.loc[:, 'negative'] = test_df.negative.apply(lambda x: x.replace('No Negative', 'nonegative'))\n",
    "test_df['review'] = test_df.negative +' '+ test_df.positive\n",
    "\n",
    "df.head(3)"
   ]
  },
  {
   "cell_type": "code",
   "execution_count": 31,
   "id": "2da88496",
   "metadata": {},
   "outputs": [
    {
     "data": {
      "text/html": [
       "<div>\n",
       "<style scoped>\n",
       "    .dataframe tbody tr th:only-of-type {\n",
       "        vertical-align: middle;\n",
       "    }\n",
       "\n",
       "    .dataframe tbody tr th {\n",
       "        vertical-align: top;\n",
       "    }\n",
       "\n",
       "    .dataframe thead th {\n",
       "        text-align: right;\n",
       "    }\n",
       "</style>\n",
       "<table border=\"1\" class=\"dataframe\">\n",
       "  <thead>\n",
       "    <tr style=\"text-align: right;\">\n",
       "      <th></th>\n",
       "      <th>review_id</th>\n",
       "      <th>negative</th>\n",
       "      <th>positive</th>\n",
       "      <th>review</th>\n",
       "    </tr>\n",
       "  </thead>\n",
       "  <tbody>\n",
       "    <tr>\n",
       "      <th>0</th>\n",
       "      <td>00026f564b258ad5159aab07c357c4ca</td>\n",
       "      <td>Other than the location everything else was h...</td>\n",
       "      <td>Just the location</td>\n",
       "      <td>Other than the location everything else was h...</td>\n",
       "    </tr>\n",
       "    <tr>\n",
       "      <th>1</th>\n",
       "      <td>000278c73da08f4fcb857fcfe4ac6417</td>\n",
       "      <td>No UK TV but this was a minor point as we wer...</td>\n",
       "      <td>Great location very comfortable clean breakfa...</td>\n",
       "      <td>No UK TV but this was a minor point as we wer...</td>\n",
       "    </tr>\n",
       "    <tr>\n",
       "      <th>2</th>\n",
       "      <td>000404f843e756fe3b2a477dbefa5bd4</td>\n",
       "      <td>A tiny noisy room VERY deceptively photographed</td>\n",
       "      <td>The breakfast booked the preceding night but ...</td>\n",
       "      <td>A tiny noisy room VERY deceptively photograph...</td>\n",
       "    </tr>\n",
       "  </tbody>\n",
       "</table>\n",
       "</div>"
      ],
      "text/plain": [
       "                          review_id  \\\n",
       "0  00026f564b258ad5159aab07c357c4ca   \n",
       "1  000278c73da08f4fcb857fcfe4ac6417   \n",
       "2  000404f843e756fe3b2a477dbefa5bd4   \n",
       "\n",
       "                                            negative  \\\n",
       "0   Other than the location everything else was h...   \n",
       "1   No UK TV but this was a minor point as we wer...   \n",
       "2   A tiny noisy room VERY deceptively photographed    \n",
       "\n",
       "                                            positive  \\\n",
       "0                                 Just the location    \n",
       "1   Great location very comfortable clean breakfa...   \n",
       "2   The breakfast booked the preceding night but ...   \n",
       "\n",
       "                                              review  \n",
       "0   Other than the location everything else was h...  \n",
       "1   No UK TV but this was a minor point as we wer...  \n",
       "2   A tiny noisy room VERY deceptively photograph...  "
      ]
     },
     "execution_count": 31,
     "metadata": {},
     "output_type": "execute_result"
    }
   ],
   "source": [
    "test_df.head(3)"
   ]
  },
  {
   "cell_type": "markdown",
   "id": "7cfa85ac",
   "metadata": {},
   "source": [
    "# Часть 1.\n",
    "# 1 балл\n",
    "Обучите логистическую регрессию на TF-IDF векторах текстов. "
   ]
  },
  {
   "cell_type": "code",
   "execution_count": 32,
   "id": "440309b3",
   "metadata": {},
   "outputs": [],
   "source": [
    "from sklearn.model_selection import train_test_split\n",
    "df_train, df_test = train_test_split(df, random_state=1412) # <-для локального тестирования\n",
    "\n",
    "x_train, y_train = df_train.review, df_train.score.values\n",
    "x_test, y_test = df_test.review, df_test.score.values"
   ]
  },
  {
   "cell_type": "code",
   "execution_count": 33,
   "id": "926776a4",
   "metadata": {},
   "outputs": [],
   "source": [
    "from sklearn.feature_extraction.text import TfidfVectorizer\n",
    "tfv = TfidfVectorizer(min_df=10, analyzer='word', stop_words = 'english', \n",
    "                      lowercase=True)"
   ]
  },
  {
   "cell_type": "code",
   "execution_count": 36,
   "id": "e6d2305a",
   "metadata": {},
   "outputs": [],
   "source": [
    "tfv.fit(df.review)\n",
    "\n",
    "x_train_tfv =  tfv.transform(x_train) \n",
    "x_test_tfv = tfv.transform(x_test)\n",
    "\n",
    "from sklearn.linear_model import LinearRegression\n",
    "from sklearn.metrics import mean_absolute_error\n",
    "lr = LinearRegression()\n",
    "lr.fit(x_train_tfv, y_train);"
   ]
  },
  {
   "cell_type": "code",
   "execution_count": 37,
   "id": "46aa8087",
   "metadata": {},
   "outputs": [
    {
     "data": {
      "text/plain": [
       "0.93874"
      ]
     },
     "execution_count": 37,
     "metadata": {},
     "output_type": "execute_result"
    }
   ],
   "source": [
    "y_pred = lr.predict(x_test_tfv)\n",
    "\n",
    "MAE = mean_absolute_error(np.round(y_pred, 1), y_test)\n",
    "MAE"
   ]
  },
  {
   "cell_type": "markdown",
   "id": "65e47c0f",
   "metadata": {},
   "source": [
    "#### Обучим модель на всех данных "
   ]
  },
  {
   "cell_type": "code",
   "execution_count": 38,
   "id": "76ef6eac",
   "metadata": {
    "scrolled": false
   },
   "outputs": [
    {
     "data": {
      "text/plain": [
       "0.8541969999999999"
      ]
     },
     "execution_count": 38,
     "metadata": {},
     "output_type": "execute_result"
    }
   ],
   "source": [
    "x_df = tfv.transform(df.review)\n",
    "lr.fit(x_df, df.score)\n",
    "\n",
    "x_df_predict = lr.predict(x_df)\n",
    "MAE = mean_absolute_error(np.round(x_df_predict, 1), df.score)\n",
    "MAE"
   ]
  },
  {
   "cell_type": "markdown",
   "id": "632e84aa",
   "metadata": {},
   "source": [
    "#### Test data"
   ]
  },
  {
   "cell_type": "code",
   "execution_count": 39,
   "id": "c443f83e",
   "metadata": {},
   "outputs": [],
   "source": [
    "test_tvf = tfv.transform(test_df.review)\n",
    "predict_test_score = lr.predict(test_tvf)\n",
    "predict_test_score = np.round(predict_test_score, 1)\n",
    "submit_df = pd.DataFrame(data = test_df.review_id)\n",
    "submit_df['score'] = predict_test_score"
   ]
  },
  {
   "cell_type": "code",
   "execution_count": 40,
   "id": "893f06c1",
   "metadata": {},
   "outputs": [],
   "source": [
    "submit_df.to_csv('data/output.csv', index=False)"
   ]
  },
  {
   "cell_type": "code",
   "execution_count": 23,
   "id": "052bbecb",
   "metadata": {
    "scrolled": true
   },
   "outputs": [
    {
     "data": {
      "image/png": "[encoded data removed]",
      "text/plain": [
       "<IPython.core.display.Image object>"
      ]
     },
     "execution_count": 23,
     "metadata": {},
     "output_type": "execute_result"
    }
   ],
   "source": [
    "from IPython.display import Image\n",
    "Image(filename='kaggle_1_exercise.png') "
   ]
  },
  {
   "cell_type": "markdown",
   "id": "6f25acbf",
   "metadata": {},
   "source": [
    "# Часть 2. 2 балла"
   ]
  },
  {
   "cell_type": "markdown",
   "id": "070357a7",
   "metadata": {},
   "source": [
    "## 2.1 Обучите логистическую регрессию на усредненных Word2Vec векторах."
   ]
  },
  {
   "cell_type": "code",
   "execution_count": 111,
   "id": "29214cc6",
   "metadata": {
    "scrolled": false
   },
   "outputs": [],
   "source": [
    "import pandas as pd\n",
    "import numpy as np\n",
    "from sklearn.linear_model import LinearRegression\n",
    "from sklearn.metrics import mean_absolute_error\n",
    "from sklearn.model_selection import train_test_split\n",
    "\n",
    "df = pd.read_csv('data/train.csv')\n",
    "test_df = pd.read_csv('data/test.csv')\n",
    "\n",
    "df.loc[:, 'positive'] = df.positive.apply(lambda x: x.replace('No Positive', 'nopositive'))\n",
    "df.loc[:, 'negative'] = df.negative.apply(lambda x: x.replace('No Negative', 'nonegative'))\n",
    "df['review'] = df.negative + ' ' + df.positive \n",
    "df.score = df.score\n",
    "\n",
    "test_df.loc[:, 'positive'] = test_df.positive.apply(lambda x: x.replace('No Positive', 'nopositive'))\n",
    "test_df.loc[:, 'negative'] = test_df.negative.apply(lambda x: x.replace('No Negative', 'nonegative'))\n",
    "test_df['review'] = test_df.negative +' '+ test_df.positive"
   ]
  },
  {
   "cell_type": "code",
   "execution_count": 112,
   "id": "9629d726",
   "metadata": {
    "scrolled": false
   },
   "outputs": [
    {
     "name": "stderr",
     "output_type": "stream",
     "text": [
      "[nltk_data] Downloading package stopwords to\n",
      "[nltk_data]     C:\\Users\\obars\\AppData\\Roaming\\nltk_data...\n",
      "[nltk_data]   Package stopwords is already up-to-date!\n",
      "[nltk_data] Downloading package punkt to\n",
      "[nltk_data]     C:\\Users\\obars\\AppData\\Roaming\\nltk_data...\n",
      "[nltk_data]   Package punkt is already up-to-date!\n"
     ]
    }
   ],
   "source": [
    "# lemmatization\n",
    "from nltk.stem import WordNetLemmatizer\n",
    "from nltk.tokenize import word_tokenize\n",
    "import nltk\n",
    "import string\n",
    "from nltk.corpus import stopwords\n",
    "nltk.download('stopwords')\n",
    "nltk.download('punkt')\n",
    "stop_words = set(stopwords.words('english'))\n",
    "\n",
    "lem = WordNetLemmatizer()\n",
    "# лемматизация ухудшает качество в моем случае, поэтому сделаем простой вариант препроцессинга текста\n",
    "\n",
    "def lemmatize_text(text):\n",
    "    return [w for w in word_tokenize(text.lower()) if w not in string.punctuation # lem.lemmatize(w)\n",
    "            and w not in stop_words \n",
    "            and not any(i.isdigit() for i in w)\n",
    "            and len(w)>1 ]\n",
    "\n",
    "df.review = df.review.apply(lemmatize_text)\n",
    "test_df.review = test_df.review.apply(lemmatize_text);"
   ]
  },
  {
   "cell_type": "code",
   "execution_count": 5,
   "id": "4edbc961",
   "metadata": {},
   "outputs": [
    {
     "data": {
      "text/html": [
       "<div>\n",
       "<style scoped>\n",
       "    .dataframe tbody tr th:only-of-type {\n",
       "        vertical-align: middle;\n",
       "    }\n",
       "\n",
       "    .dataframe tbody tr th {\n",
       "        vertical-align: top;\n",
       "    }\n",
       "\n",
       "    .dataframe thead th {\n",
       "        text-align: right;\n",
       "    }\n",
       "</style>\n",
       "<table border=\"1\" class=\"dataframe\">\n",
       "  <thead>\n",
       "    <tr style=\"text-align: right;\">\n",
       "      <th></th>\n",
       "      <th>review_id</th>\n",
       "      <th>negative</th>\n",
       "      <th>positive</th>\n",
       "      <th>score</th>\n",
       "      <th>review</th>\n",
       "    </tr>\n",
       "  </thead>\n",
       "  <tbody>\n",
       "    <tr>\n",
       "      <th>0</th>\n",
       "      <td>00003c6036f30f590c0ac435efb8739b</td>\n",
       "      <td>There were issues with the wifi connection</td>\n",
       "      <td>nopositive</td>\n",
       "      <td>7.1</td>\n",
       "      <td>[issues, wifi, connection, nopositive]</td>\n",
       "    </tr>\n",
       "    <tr>\n",
       "      <th>1</th>\n",
       "      <td>00004d18f186bf2489590dc415876f73</td>\n",
       "      <td>TV not working</td>\n",
       "      <td>nopositive</td>\n",
       "      <td>7.5</td>\n",
       "      <td>[tv, working, nopositive]</td>\n",
       "    </tr>\n",
       "    <tr>\n",
       "      <th>2</th>\n",
       "      <td>0000cf900cbb8667fad33a717e9b1cf4</td>\n",
       "      <td>More pillows</td>\n",
       "      <td>Beautiful room Great location Lovely staff</td>\n",
       "      <td>10.0</td>\n",
       "      <td>[pillows, beautiful, room, great, location, lo...</td>\n",
       "    </tr>\n",
       "  </tbody>\n",
       "</table>\n",
       "</div>"
      ],
      "text/plain": [
       "                          review_id  \\\n",
       "0  00003c6036f30f590c0ac435efb8739b   \n",
       "1  00004d18f186bf2489590dc415876f73   \n",
       "2  0000cf900cbb8667fad33a717e9b1cf4   \n",
       "\n",
       "                                      negative  \\\n",
       "0   There were issues with the wifi connection   \n",
       "1                               TV not working   \n",
       "2                                 More pillows   \n",
       "\n",
       "                                       positive  score  \\\n",
       "0                                    nopositive    7.1   \n",
       "1                                    nopositive    7.5   \n",
       "2   Beautiful room Great location Lovely staff    10.0   \n",
       "\n",
       "                                              review  \n",
       "0             [issues, wifi, connection, nopositive]  \n",
       "1                          [tv, working, nopositive]  \n",
       "2  [pillows, beautiful, room, great, location, lo...  "
      ]
     },
     "execution_count": 5,
     "metadata": {},
     "output_type": "execute_result"
    }
   ],
   "source": [
    "df.head(3)"
   ]
  },
  {
   "cell_type": "code",
   "execution_count": 6,
   "id": "3e669e77",
   "metadata": {},
   "outputs": [],
   "source": [
    "class MeanEmbeddingVectorizer(object):\n",
    "    def __init__(self, word2vec):\n",
    "        self.word2vec = word2vec\n",
    "        self.dim = len(w2v.popitem()[1])\n",
    "\n",
    "    def fit(self, X, y):\n",
    "        return self\n",
    "\n",
    "    def transform(self, X):\n",
    "        return np.array([\n",
    "            np.mean([self.word2vec[w] for w in words if w in self.word2vec]\n",
    "                    or [np.zeros(self.dim)], axis=0)\n",
    "            for words in X\n",
    "        ])\n",
    "from sklearn.pipeline import Pipeline\n",
    "from sklearn.linear_model import LinearRegression"
   ]
  },
  {
   "cell_type": "code",
   "execution_count": 7,
   "id": "1bc7be8e",
   "metadata": {},
   "outputs": [],
   "source": [
    "# путем подбора были выбраны наиболее оптимальные параметры \n",
    "# (дальше будет график изменения ошибки от размера эмбеддинга):\n",
    "\n",
    "from gensim.models import Word2Vec\n",
    "model = Word2Vec(df.review, vector_size=530, window=15, min_count=8, sg=1)\n",
    "\n",
    "model.save('word2v.model')\n",
    "from gensim.models import Word2Vec\n",
    "model = Word2Vec.load('word2v.model')"
   ]
  },
  {
   "cell_type": "code",
   "execution_count": 8,
   "id": "1e94d99f",
   "metadata": {},
   "outputs": [
    {
     "name": "stdout",
     "output_type": "stream",
     "text": [
      "0.9526818181818182\n"
     ]
    }
   ],
   "source": [
    "X = df.review.tolist()\n",
    "y = df.score.tolist()\n",
    "\n",
    "X_train, X_test, y_train, y_test = train_test_split(X, y, test_size=0.33, random_state=1412)\n",
    "w2v = dict(zip(model.wv.index_to_key, model.wv.vectors))\n",
    "rfc_w2v = Pipeline([\n",
    "    (\"word2vec vectorizer\", MeanEmbeddingVectorizer(w2v)),\n",
    "    (\"regression\", LinearRegression())])\n",
    "\n",
    "rfc_w2v.fit(X_train, y_train)\n",
    "y_pred = rfc_w2v.predict(X_test)\n",
    "\n",
    "MAE = mean_absolute_error(np.round(y_pred,1), y_test)\n",
    "print(MAE)"
   ]
  },
  {
   "cell_type": "markdown",
   "id": "7f61b94b",
   "metadata": {},
   "source": [
    "## 2.3 Изучим, как меняется ошибка на тестовой выборке при изменении параметров эмбединга"
   ]
  },
  {
   "cell_type": "code",
   "execution_count": 33,
   "id": "d912ae2f",
   "metadata": {
    "scrolled": true
   },
   "outputs": [
    {
     "name": "stdout",
     "output_type": "stream",
     "text": [
      "Wall time: 27min 23s\n"
     ]
    },
    {
     "data": {
      "text/plain": [
       "[<matplotlib.lines.Line2D at 0x234cbafee50>]"
      ]
     },
     "execution_count": 33,
     "metadata": {},
     "output_type": "execute_result"
    },
    {
     "data": {
      "image/png": "[encoded data removed]",
      "text/plain": [
       "<Figure size 432x288 with 1 Axes>"
      ]
     },
     "metadata": {
      "needs_background": "light"
     },
     "output_type": "display_data"
    }
   ],
   "source": [
    "%%time\n",
    "mae_list = []\n",
    "vector_list = []\n",
    "X = df.review.tolist()\n",
    "y = df.score.tolist()\n",
    "X_train, X_test, y_train, y_test = train_test_split(X, y, test_size=0.33, random_state=1412)\n",
    "\n",
    "for vector_size in range(50, 600, 50):\n",
    "    model = Word2Vec(df.review, vector_size=vector_size, window=15, min_count=8, sg=1)\n",
    "\n",
    "    w2v = dict(zip(model.wv.index_to_key, model.wv.vectors))\n",
    "    rfc_w2v = Pipeline([\n",
    "        (\"word2vec vectorizer\", MeanEmbeddingVectorizer(w2v)),\n",
    "        (\"regression\", LinearRegression())])\n",
    "\n",
    "    rfc_w2v.fit(X_train, y_train)\n",
    "    y_pred = rfc_w2v.predict(X_test)\n",
    "    MAE = mean_absolute_error(np.round(y_pred,1), y_test)\n",
    "    mae_list.append(MAE)\n",
    "    vector_list.append(vector_size)\n",
    "plt.xlabel('Vector_size')\n",
    "plt.ylabel('MAE')\n",
    "plt.plot(vector_list, mae_list)"
   ]
  },
  {
   "cell_type": "markdown",
   "id": "a29d9515",
   "metadata": {},
   "source": [
    "В качестве оптимального размера было выбрано значение 530"
   ]
  },
  {
   "cell_type": "markdown",
   "id": "aa46d262",
   "metadata": {},
   "source": [
    "## 2.4 Обучим лучшую модель и загрузим в кэггл"
   ]
  },
  {
   "cell_type": "markdown",
   "id": "e5fb4d47",
   "metadata": {},
   "source": [
    " Минимальная ошибка, которой удалось добиться - это 0.94 при применении Word2Vec на всех ревью - негативных + позитивных. Этого недостаточно для выполнения критерия соревнования на кэггл. Большей точности добиться не получается при обучении на всех данных. Попробуем рассмотреть части дф отдельно. "
   ]
  },
  {
   "cell_type": "code",
   "execution_count": 113,
   "id": "1330e68e",
   "metadata": {
    "scrolled": false
   },
   "outputs": [],
   "source": [
    "df['nonegative'] = df['negative'] == 'nonegative'\n",
    "df['nopositive'] = df['positive'] == 'nopositive'\n",
    "gb = df.groupby(by=['nonegative', 'nopositive'])"
   ]
  },
  {
   "cell_type": "code",
   "execution_count": 114,
   "id": "664e13ea",
   "metadata": {},
   "outputs": [],
   "source": [
    "med = gb.score.median()\n",
    "std = gb.score.std()\n",
    "count = gb.score.count()"
   ]
  },
  {
   "cell_type": "code",
   "execution_count": 115,
   "id": "dbd5c147",
   "metadata": {},
   "outputs": [],
   "source": [
    "stats = pd.concat([med.rename('median'), std.rename('std'), count.rename('count')], axis=1)"
   ]
  },
  {
   "cell_type": "code",
   "execution_count": 116,
   "id": "9b1b8d1a",
   "metadata": {},
   "outputs": [
    {
     "data": {
      "text/html": [
       "<div>\n",
       "<style scoped>\n",
       "    .dataframe tbody tr th:only-of-type {\n",
       "        vertical-align: middle;\n",
       "    }\n",
       "\n",
       "    .dataframe tbody tr th {\n",
       "        vertical-align: top;\n",
       "    }\n",
       "\n",
       "    .dataframe thead th {\n",
       "        text-align: right;\n",
       "    }\n",
       "</style>\n",
       "<table border=\"1\" class=\"dataframe\">\n",
       "  <thead>\n",
       "    <tr style=\"text-align: right;\">\n",
       "      <th></th>\n",
       "      <th></th>\n",
       "      <th>median</th>\n",
       "      <th>std</th>\n",
       "      <th>count</th>\n",
       "    </tr>\n",
       "    <tr>\n",
       "      <th>nonegative</th>\n",
       "      <th>nopositive</th>\n",
       "      <th></th>\n",
       "      <th></th>\n",
       "      <th></th>\n",
       "    </tr>\n",
       "  </thead>\n",
       "  <tbody>\n",
       "    <tr>\n",
       "      <th rowspan=\"2\" valign=\"top\">False</th>\n",
       "      <th>False</th>\n",
       "      <td>8.8</td>\n",
       "      <td>1.629130</td>\n",
       "      <td>68204</td>\n",
       "    </tr>\n",
       "    <tr>\n",
       "      <th>True</th>\n",
       "      <td>7.1</td>\n",
       "      <td>1.945611</td>\n",
       "      <td>6911</td>\n",
       "    </tr>\n",
       "    <tr>\n",
       "      <th rowspan=\"2\" valign=\"top\">True</th>\n",
       "      <th>False</th>\n",
       "      <td>9.6</td>\n",
       "      <td>0.913345</td>\n",
       "      <td>24862</td>\n",
       "    </tr>\n",
       "    <tr>\n",
       "      <th>True</th>\n",
       "      <td>8.8</td>\n",
       "      <td>1.852666</td>\n",
       "      <td>23</td>\n",
       "    </tr>\n",
       "  </tbody>\n",
       "</table>\n",
       "</div>"
      ],
      "text/plain": [
       "                       median       std  count\n",
       "nonegative nopositive                         \n",
       "False      False          8.8  1.629130  68204\n",
       "           True           7.1  1.945611   6911\n",
       "True       False          9.6  0.913345  24862\n",
       "           True           8.8  1.852666     23"
      ]
     },
     "execution_count": 116,
     "metadata": {},
     "output_type": "execute_result"
    }
   ],
   "source": [
    "stats"
   ]
  },
  {
   "cell_type": "markdown",
   "id": "9d37da91",
   "metadata": {},
   "source": [
    "Предскажем score внутри группы nonegative == True как медианное значение "
   ]
  },
  {
   "cell_type": "code",
   "execution_count": 12,
   "id": "fc945a68",
   "metadata": {},
   "outputs": [],
   "source": [
    "# у нас есть маленькая группа ревью, где нет негативного комментария, и другая группа\n",
    "df_triv = df[df['negative'] == 'nonegative'].copy()\n",
    "df_model = df[df['negative'] != 'nonegative'].copy()\n",
    "\n",
    "# Для отзывов, где отсутствует отрицательная часть будем предсказывать результат медианных значением\n",
    "df_triv['y_pred'] = df_triv.score.median()\n",
    "\n",
    "test_df_triv = test_df[test_df['negative'] == 'nonegative'].copy()\n",
    "test_df_model = test_df[test_df['negative'] != 'nonegative'].copy()\n",
    "test_df_triv['y_pred'] = df_triv.score.median()"
   ]
  },
  {
   "cell_type": "markdown",
   "id": "da6de03e",
   "metadata": {},
   "source": [
    "В ходе экспериментов также попробовала заменить вычисление среднего в классе MeanEmbeddingVectorizer на сумму, так как, вероятно, повторение близких слов будет влиять на оценку отзыва. Это помогло выполнить условие kaggle - ошибка уменьшилась до приемлемой"
   ]
  },
  {
   "cell_type": "code",
   "execution_count": 13,
   "id": "4c6b8890",
   "metadata": {},
   "outputs": [],
   "source": [
    "class MeanEmbeddingVectorizer(object):\n",
    "    def __init__(self, word2vec):\n",
    "        self.word2vec = word2vec\n",
    "        self.dim = len(w2v.popitem()[1])\n",
    "\n",
    "    def fit(self, X, y):\n",
    "        return self\n",
    "\n",
    "    def transform(self, X):\n",
    "        return np.array([\n",
    "            np.sum([self.word2vec[w] for w in words if w in self.word2vec] # TODO: np.mean()\n",
    "                    or [np.zeros(self.dim)], axis=0)\n",
    "            for words in X\n",
    "        ])"
   ]
  },
  {
   "cell_type": "code",
   "execution_count": 14,
   "id": "8beeeecc",
   "metadata": {},
   "outputs": [
    {
     "name": "stdout",
     "output_type": "stream",
     "text": [
      "0.8170112535985343\n"
     ]
    }
   ],
   "source": [
    "# cделаем предикт на 2 группу данных - где есть негативный комментарий\n",
    "X = df_model.review.tolist()\n",
    "y = df_model.score.tolist()\n",
    "\n",
    "X_train, X_test, y_train, y_test = train_test_split(X, y, test_size=0.33, random_state=1412)\n",
    "\n",
    "model = Word2Vec(df_model.review, vector_size=530, window=15, min_count=8, sg=1)\n",
    "\n",
    "w2v = dict(zip(model.wv.index_to_key, model.wv.vectors))\n",
    "rfc_w2v = Pipeline([\n",
    "    (\"word2vec vectorizer\", MeanEmbeddingVectorizer(w2v)),\n",
    "    (\"regression\", LinearRegression())])\n",
    "\n",
    "rfc_w2v.fit(X_train, y_train)\n",
    "y_pred = rfc_w2v.predict(X_test)\n",
    "df3 = pd.DataFrame(y_pred, columns=['y_pred'])\n",
    "df3['score'] = y_test\n",
    "df3 = df3.append(df_triv[['score', 'y_pred']], ignore_index=True)\n",
    "MAE = mean_absolute_error(np.round(df3.y_pred,1), df3.score)\n",
    "print(MAE)"
   ]
  },
  {
   "cell_type": "markdown",
   "id": "f91b65f1",
   "metadata": {},
   "source": [
    "#### Пока что это лучший вариант, обучим последнюю модель на всей выборке для предсказания и соберем все результаты воедино (часть предсказания мы делаем медианным значением, часть линейной регрессией) и загрузим на кэггл"
   ]
  },
  {
   "cell_type": "code",
   "execution_count": 15,
   "id": "523b4442",
   "metadata": {},
   "outputs": [
    {
     "data": {
      "text/html": [
       "<div>\n",
       "<style scoped>\n",
       "    .dataframe tbody tr th:only-of-type {\n",
       "        vertical-align: middle;\n",
       "    }\n",
       "\n",
       "    .dataframe tbody tr th {\n",
       "        vertical-align: top;\n",
       "    }\n",
       "\n",
       "    .dataframe thead th {\n",
       "        text-align: right;\n",
       "    }\n",
       "</style>\n",
       "<table border=\"1\" class=\"dataframe\">\n",
       "  <thead>\n",
       "    <tr style=\"text-align: right;\">\n",
       "      <th></th>\n",
       "      <th>review_id</th>\n",
       "      <th>score</th>\n",
       "    </tr>\n",
       "  </thead>\n",
       "  <tbody>\n",
       "    <tr>\n",
       "      <th>0</th>\n",
       "      <td>00026f564b258ad5159aab07c357c4ca</td>\n",
       "      <td>7.113703</td>\n",
       "    </tr>\n",
       "    <tr>\n",
       "      <th>1</th>\n",
       "      <td>000278c73da08f4fcb857fcfe4ac6417</td>\n",
       "      <td>10.129708</td>\n",
       "    </tr>\n",
       "    <tr>\n",
       "      <th>2</th>\n",
       "      <td>000404f843e756fe3b2a477dbefa5bd4</td>\n",
       "      <td>7.585840</td>\n",
       "    </tr>\n",
       "  </tbody>\n",
       "</table>\n",
       "</div>"
      ],
      "text/plain": [
       "                          review_id      score\n",
       "0  00026f564b258ad5159aab07c357c4ca   7.113703\n",
       "1  000278c73da08f4fcb857fcfe4ac6417  10.129708\n",
       "2  000404f843e756fe3b2a477dbefa5bd4   7.585840"
      ]
     },
     "execution_count": 15,
     "metadata": {},
     "output_type": "execute_result"
    }
   ],
   "source": [
    "X = df.review\n",
    "y = df.score\n",
    "\n",
    "rfc_w2v.fit(X, y)\n",
    "test_df_model['y_pred'] = rfc_w2v.predict(test_df_model.review)\n",
    "\n",
    "df_result = test_df_model[['review_id', 'y_pred']]\n",
    "df_result = df_result.append(test_df_triv[['review_id', 'y_pred']], ignore_index=True)\n",
    "df_result.rename(columns={'y_pred':'score'}, inplace=True)\n",
    "df_result.head(3)"
   ]
  },
  {
   "cell_type": "code",
   "execution_count": 137,
   "id": "6cd89104",
   "metadata": {
    "scrolled": true
   },
   "outputs": [],
   "source": [
    "df_result.to_csv('data/output_vec.csv', index=False)"
   ]
  },
  {
   "cell_type": "code",
   "execution_count": 16,
   "id": "99f72e02",
   "metadata": {},
   "outputs": [
    {
     "data": {
      "image/png": "[encoded data removed]",
      "text/plain": [
       "<IPython.core.display.Image object>"
      ]
     },
     "execution_count": 16,
     "metadata": {},
     "output_type": "execute_result"
    }
   ],
   "source": [
    "from IPython.display import Image\n",
    "Image(filename='output_vec_exercise2.png')"
   ]
  },
  {
   "cell_type": "markdown",
   "id": "1c0a082d",
   "metadata": {},
   "source": [
    "## 2.2 TF-iDF"
   ]
  },
  {
   "cell_type": "code",
   "execution_count": 18,
   "id": "e7a6bedc",
   "metadata": {},
   "outputs": [],
   "source": [
    "# воспользуемся классом\n",
    "class TfidfEmbeddingVectorizer(object):\n",
    "    def __init__(self, word2vec):\n",
    "        self.word2vec = word2vec\n",
    "        self.word2weight = None\n",
    "        self.dim = len(w2v.popitem()[1])\n",
    "\n",
    "    def fit(self, X, y):\n",
    "        tfidf = TfidfVectorizer(analyzer=lambda x: x)\n",
    "        tfidf.fit(X)\n",
    "        max_idf = max(tfidf.idf_)\n",
    "        self.word2weight = defaultdict(\n",
    "            lambda: max_idf,\n",
    "            [(w, tfidf.idf_[i]) for w, i in tfidf.vocabulary_.items()])\n",
    "        return self\n",
    "\n",
    "    def transform(self, X):\n",
    "        return np.array([\n",
    "                np.mean([self.word2vec[w] * self.word2weight[w]\n",
    "                         for w in words if w in self.word2vec] or\n",
    "                        [np.zeros(self.dim)], axis=0) for words in X\n",
    "            ])"
   ]
  },
  {
   "cell_type": "code",
   "execution_count": 20,
   "id": "9fe8aa8e",
   "metadata": {},
   "outputs": [],
   "source": [
    "from sklearn.feature_extraction.text import TfidfVectorizer\n",
    "from collections import defaultdict\n",
    "\n",
    "rfc_w2v = Pipeline([\n",
    "    (\"word2vec vectorizer\", TfidfEmbeddingVectorizer(w2v)),\n",
    "    (\"lr\", LinearRegression())])"
   ]
  },
  {
   "cell_type": "code",
   "execution_count": 24,
   "id": "9dfe0fc0",
   "metadata": {},
   "outputs": [],
   "source": [
    "X = df.review.tolist()\n",
    "y = df.score.tolist()\n",
    "model = Word2Vec(df.review, vector_size=530, window=15, min_count=8, sg=1)\n",
    "\n",
    "X_train, X_test, y_train, y_test = train_test_split(X, y, test_size=0.33, random_state=1412)\n",
    "rfc_w2v.fit(X_train, y_train)\n",
    "y_pred = rfc_w2v.predict(X_test)\n",
    "\n",
    "MAE = mean_absolute_error(np.round(y_pred,1), y_test)"
   ]
  },
  {
   "cell_type": "code",
   "execution_count": 27,
   "id": "b6b32c5d",
   "metadata": {},
   "outputs": [
    {
     "name": "stdout",
     "output_type": "stream",
     "text": [
      "0.9688212121212122\n"
     ]
    }
   ],
   "source": [
    "print(MAE)"
   ]
  },
  {
   "cell_type": "markdown",
   "id": "8737b721",
   "metadata": {},
   "source": [
    "## 2.3 Посмотрим, как меняется ошибка в случае с tf-idf в зависимости от размера эмбеддинга"
   ]
  },
  {
   "cell_type": "code",
   "execution_count": 39,
   "id": "4d69a3e5",
   "metadata": {
    "scrolled": true
   },
   "outputs": [
    {
     "name": "stdout",
     "output_type": "stream",
     "text": [
      "Wall time: 30min 45s\n"
     ]
    }
   ],
   "source": [
    "%%time\n",
    "mae_list = []\n",
    "vector_list = []\n",
    "X = df.review.tolist()\n",
    "y = df.score.tolist()\n",
    "X_train, X_test, y_train, y_test = train_test_split(X, y, test_size=0.33, random_state=1412)\n",
    "\n",
    "for vector_size in range(100, 600, 50):\n",
    "    model = Word2Vec(df.review, vector_size=vector_size, window=15, min_count=8, sg=1)\n",
    "\n",
    "    w2v = dict(zip(model.wv.index_to_key, model.wv.vectors))\n",
    "    rfc_w2v = Pipeline([\n",
    "        (\"tfidf vectorizer\", TfidfEmbeddingVectorizer(w2v)),\n",
    "        (\"regression\", LinearRegression())])\n",
    "\n",
    "    rfc_w2v.fit(X_train, y_train)\n",
    "    y_pred = rfc_w2v.predict(X_test)\n",
    "    MAE = mean_absolute_error(np.round(y_pred,1), y_test)\n",
    "    mae_list.append(MAE)\n",
    "    vector_list.append(vector_size)"
   ]
  },
  {
   "cell_type": "code",
   "execution_count": 40,
   "id": "4e9d8885",
   "metadata": {},
   "outputs": [
    {
     "data": {
      "text/plain": [
       "[<matplotlib.lines.Line2D at 0x234983a4ca0>]"
      ]
     },
     "execution_count": 40,
     "metadata": {},
     "output_type": "execute_result"
    },
    {
     "data": {
      "image/png": "[encoded data removed]",
      "text/plain": [
       "<Figure size 432x288 with 1 Axes>"
      ]
     },
     "metadata": {
      "needs_background": "light"
     },
     "output_type": "display_data"
    }
   ],
   "source": [
    "plt.xlabel('Vector_size in TFIDF')\n",
    "plt.ylabel('MAE')\n",
    "plt.plot(vector_list, mae_list)"
   ]
  },
  {
   "cell_type": "markdown",
   "id": "8eca18d1",
   "metadata": {},
   "source": [
    "### Выводы:\n",
    "TF-idf весами с тем же самым размером эмбеддинга модель имеет качество хуже. Вероятно, это происходит за счет того, что слова типа \"хороший\", \"плохой\" встречаются практически в каждом отзыве и теряют свою значимость в таком методе оценки. "
   ]
  },
  {
   "cell_type": "markdown",
   "id": "94b8134e",
   "metadata": {},
   "source": [
    "### Попробуем другой эмбеддинг, glove-wiki-gigaword-300"
   ]
  },
  {
   "cell_type": "code",
   "execution_count": 32,
   "id": "19628344",
   "metadata": {},
   "outputs": [
    {
     "name": "stdout",
     "output_type": "stream",
     "text": [
      "total train examples 75000\n",
      "total test examples 25000\n",
      "MAE 1.0484280000000001\n"
     ]
    }
   ],
   "source": [
    "### glove_vectors\n",
    "import gensim.downloader\n",
    "glove_vectors = gensim.downloader.load('glove-wiki-gigaword-300')  \n",
    "size = glove_vectors['cat'].size\n",
    "\n",
    "def words_list_to_vec(words_list, model):\n",
    "    vectors = []\n",
    "    for i in words_list:\n",
    "        if i in model:\n",
    "            vectors.append(model[i])\n",
    "    if len(vectors) == 0:\n",
    "        return np.zeros(size)\n",
    "    arr = np.array(vectors)\n",
    "    return np.mean(arr, axis=0)\n",
    "\n",
    "df['numeric'] = df.review.apply(words_list_to_vec, model=glove_vectors)\n",
    "df_vector = pd.DataFrame(df['numeric'].to_list(), columns=list(range(300)))\n",
    "df_vector['score'] = df.score\n",
    "\n",
    "num_columns = list(df_vector.columns)[:-1]\n",
    "\n",
    "X = df_vector[num_columns]\n",
    "y = df_vector['score']\n",
    "\n",
    "X_train, X_test, y_train, y_test = train_test_split(X, y, random_state=1412) # <-для локального тестирования\n",
    "print (\"total train examples %s\" % len(y_train))\n",
    "print (\"total test examples %s\" % len(y_test))\n",
    "\n",
    "lr = LinearRegression()\n",
    "lr.fit(X_train, y_train)\n",
    "y_pred = lr.predict(X_test)\n",
    "\n",
    "MAE = mean_absolute_error(np.round(y_pred, 1), y_test)\n",
    "print('MAE', MAE)"
   ]
  },
  {
   "cell_type": "markdown",
   "id": "cb1af7af",
   "metadata": {},
   "source": [
    "### Выводы:\n",
    "С готовым эмбеддингом не получилось добиться хорошего результата. Возможно, выбрала не подходящий, так как эмбеддинг, обученный на википедии может просто плохо описывать то, что происходит в реальных отзывах, так как заточен на работу с научным стилем текста. Также время работы алгоритма увеличилось.\n",
    "#### Итог:\n",
    "Моделью линейной регрессии не получилось добиться нужного результата \"в лоб\". Предобработка отзывов значительно помогла улучшить качество линейной регрессии, но лемматизация ревью только ухудшила результат (в итоге от нее пришлось отказаться), хотя, казалось, она должна  оставить только важную часть данных. Добиться нужного качества получилось только путем отдельного рассмотрения разных групп отзывов."
   ]
  },
  {
   "cell_type": "markdown",
   "id": "1cb48db5",
   "metadata": {},
   "source": [
    "## Часть 3. 4 балла"
   ]
  },
  {
   "cell_type": "markdown",
   "id": "e3fff4ed",
   "metadata": {},
   "source": [
    "Обучите RNN/Transformer для предсказания пользовательской оценки. Получите ошибку меньше, чем во всех вышеперечисленных методах."
   ]
  },
  {
   "cell_type": "markdown",
   "id": "2e66c372",
   "metadata": {},
   "source": [
    "Это задание выполнить не получилось, к сожалению, но вся предобработка датафрейма была выполнена"
   ]
  },
  {
   "cell_type": "code",
   "execution_count": 126,
   "id": "c9445d37",
   "metadata": {},
   "outputs": [],
   "source": [
    "import numpy as np\n",
    "import pandas as pd\n",
    "\n",
    "df = pd.read_csv('data/train.csv')\n",
    "test_df = pd.read_csv('data/test.csv')\n",
    "\n",
    "df.loc[:, 'positive'] = df.positive.apply(lambda x: x.replace('No Positive', 'nopositive'))\n",
    "df.loc[:, 'negative'] = df.negative.apply(lambda x: x.replace('No Negative', 'nonegative'))\n",
    "df['review'] = df.negative + ' ' + df.positive \n",
    "\n",
    "test_df.loc[:, 'positive'] = test_df.positive.apply(lambda x: x.replace('No Positive', 'nopositive'))\n",
    "test_df.loc[:, 'negative'] = test_df.negative.apply(lambda x: x.replace('No Negative', 'nonegative'))\n",
    "test_df['review'] = test_df.negative +' '+ test_df.positive"
   ]
  },
  {
   "cell_type": "code",
   "execution_count": 127,
   "id": "10bd9de0",
   "metadata": {},
   "outputs": [
    {
     "name": "stderr",
     "output_type": "stream",
     "text": [
      "[nltk_data] Downloading package stopwords to\n",
      "[nltk_data]     C:\\Users\\obars\\AppData\\Roaming\\nltk_data...\n",
      "[nltk_data]   Package stopwords is already up-to-date!\n",
      "[nltk_data] Downloading package punkt to\n",
      "[nltk_data]     C:\\Users\\obars\\AppData\\Roaming\\nltk_data...\n",
      "[nltk_data]   Package punkt is already up-to-date!\n"
     ]
    }
   ],
   "source": [
    "# lemmatization\n",
    "from nltk.stem import WordNetLemmatizer\n",
    "from nltk.tokenize import word_tokenize\n",
    "import nltk\n",
    "import string\n",
    "from nltk.corpus import stopwords\n",
    "nltk.download('stopwords')\n",
    "nltk.download('punkt')\n",
    "stop_words = set(stopwords.words('english'))\n",
    "\n",
    "lem = WordNetLemmatizer()\n",
    "#лемматизация ухудшает качество в моем случае, поэтому сделаем простой вариант препроцессинга текста\n",
    "\n",
    "def lemmatize_text(text):\n",
    "    return [w for w in word_tokenize(text.lower()) if w not in string.punctuation \n",
    "            # lem.lemmatize(w)\n",
    "            and w not in stop_words \n",
    "            and not any(i.isdigit() for i in w)\n",
    "            and len(w)>1 ]\n",
    "\n",
    "df.review = df.review.apply(lemmatize_text)\n",
    "test_df.review = test_df.review.apply(lemmatize_text);"
   ]
  },
  {
   "cell_type": "code",
   "execution_count": 128,
   "id": "20fae800",
   "metadata": {},
   "outputs": [
    {
     "name": "stdout",
     "output_type": "stream",
     "text": [
      "True\n",
      "В словаре всего 32754 слов\n"
     ]
    },
    {
     "data": {
      "text/plain": [
       "(321, 18.47719, 0)"
      ]
     },
     "execution_count": 128,
     "metadata": {},
     "output_type": "execute_result"
    }
   ],
   "source": [
    "words = set()\n",
    "for sent in list(df['review']):\n",
    "    for word in sent:\n",
    "        words.add(word)      \n",
    "int2word = dict(enumerate(tuple(words), start=1))\n",
    "word2int = {w: ii for ii, w in int2word.items()}\n",
    "\n",
    "max_len = max(df['review'].apply(len))\n",
    "mean_len = df['review'].apply(len).mean()\n",
    "smallest_len = df['review'].apply(len).min()\n",
    "\n",
    "print(len(words) == len(int2word) == len(word2int))\n",
    "print(f'В словаре всего {len(words)} слов')\n",
    "max_len, mean_len, smallest_len"
   ]
  },
  {
   "cell_type": "code",
   "execution_count": 129,
   "id": "91b80884",
   "metadata": {},
   "outputs": [
    {
     "name": "stdout",
     "output_type": "stream",
     "text": [
      "Count of 0 len reviews:  19\n",
      "100000\n",
      "When we drop 0 len reviews: 99981\n"
     ]
    }
   ],
   "source": [
    "# У нас также есть отзывы нулевой длины\n",
    "print('Count of 0 len reviews: ', df[df['review'].apply(len) == 0].count()[0])\n",
    "print(len(df))\n",
    "df = df.drop(index=df[df['review'].apply(len) == 0].index.values.tolist())\n",
    "print('When we drop 0 len reviews:', len(df))"
   ]
  },
  {
   "cell_type": "code",
   "execution_count": 130,
   "id": "a7274ee2",
   "metadata": {},
   "outputs": [],
   "source": [
    "import torch\n",
    "from torch.nn.utils.rnn import pad_sequence\n",
    "\n",
    "train_pos_pad = pad_sequence([torch.as_tensor([word2int[w] for w in seq][:max_len]) for seq in df['review']], \n",
    "                           batch_first=True)"
   ]
  },
  {
   "cell_type": "code",
   "execution_count": 131,
   "id": "76eeeab5",
   "metadata": {},
   "outputs": [
    {
     "data": {
      "text/plain": [
       "tensor([29787, 29713,  6357, 18572,     0,     0,     0,     0,     0,     0,\n",
       "            0,     0,     0,     0,     0,     0,     0,     0,     0,     0,\n",
       "            0,     0,     0,     0,     0,     0,     0,     0,     0,     0,\n",
       "            0,     0,     0,     0,     0,     0,     0,     0,     0,     0,\n",
       "            0,     0,     0,     0,     0,     0,     0,     0,     0,     0,\n",
       "            0,     0,     0,     0,     0,     0,     0,     0,     0,     0,\n",
       "            0,     0,     0,     0,     0,     0,     0,     0,     0,     0,\n",
       "            0,     0,     0,     0,     0,     0,     0,     0,     0,     0,\n",
       "            0,     0,     0,     0,     0,     0,     0,     0,     0,     0,\n",
       "            0,     0,     0,     0,     0,     0,     0,     0,     0,     0,\n",
       "            0,     0,     0,     0,     0,     0,     0,     0,     0,     0,\n",
       "            0,     0,     0,     0,     0,     0,     0,     0,     0,     0,\n",
       "            0,     0,     0,     0,     0,     0,     0,     0,     0,     0,\n",
       "            0,     0,     0,     0,     0,     0,     0,     0,     0,     0,\n",
       "            0,     0,     0,     0,     0,     0,     0,     0,     0,     0,\n",
       "            0,     0,     0,     0,     0,     0,     0,     0,     0,     0,\n",
       "            0,     0,     0,     0,     0,     0,     0,     0,     0,     0,\n",
       "            0,     0,     0,     0,     0,     0,     0,     0,     0,     0,\n",
       "            0,     0,     0,     0,     0,     0,     0,     0,     0,     0,\n",
       "            0,     0,     0,     0,     0,     0,     0,     0,     0,     0,\n",
       "            0,     0,     0,     0,     0,     0,     0,     0,     0,     0,\n",
       "            0,     0,     0,     0,     0,     0,     0,     0,     0,     0,\n",
       "            0,     0,     0,     0,     0,     0,     0,     0,     0,     0,\n",
       "            0,     0,     0,     0,     0,     0,     0,     0,     0,     0,\n",
       "            0,     0,     0,     0,     0,     0,     0,     0,     0,     0,\n",
       "            0,     0,     0,     0,     0,     0,     0,     0,     0,     0,\n",
       "            0,     0,     0,     0,     0,     0,     0,     0,     0,     0,\n",
       "            0,     0,     0,     0,     0,     0,     0,     0,     0,     0,\n",
       "            0,     0,     0,     0,     0,     0,     0,     0,     0,     0,\n",
       "            0,     0,     0,     0,     0,     0,     0,     0,     0,     0,\n",
       "            0,     0,     0,     0,     0,     0,     0,     0,     0,     0,\n",
       "            0,     0,     0,     0,     0,     0,     0,     0,     0,     0,\n",
       "            0])"
      ]
     },
     "execution_count": 131,
     "metadata": {},
     "output_type": "execute_result"
    }
   ],
   "source": [
    "train_pos_pad[0]"
   ]
  },
  {
   "cell_type": "code",
   "execution_count": 134,
   "id": "98426135",
   "metadata": {},
   "outputs": [
    {
     "name": "stdout",
     "output_type": "stream",
     "text": [
      "total train examples 74985\n",
      "total test examples 24996\n"
     ]
    }
   ],
   "source": [
    "from sklearn.model_selection import train_test_split\n",
    "X = train_pos_pad\n",
    "y = df.score.values / 10 # TODO\n",
    "\n",
    "X_train, X_test, y_train, y_test = train_test_split(X, y, random_state=1412) # <-для локального тестирования\n",
    "print (\"total train examples %s\" % len(y_train))\n",
    "print (\"total test examples %s\" % len(y_test))"
   ]
  },
  {
   "cell_type": "code",
   "execution_count": 135,
   "id": "2bd003e3",
   "metadata": {},
   "outputs": [],
   "source": [
    "import torch.nn as nn\n",
    "from torch.utils.data import TensorDataset, DataLoader\n",
    "batch_size = 50\n",
    "\n",
    "train_dataset = TensorDataset(X_train, torch.from_numpy(y_train))\n",
    "test_dataset = TensorDataset(X_test, torch.from_numpy(y_test))\n",
    "\n",
    "train_dataloader = torch.utils.data.DataLoader(train_dataset, batch_size=batch_size)\n",
    "test_dataloader = torch.utils.data.DataLoader(test_dataset, batch_size=batch_size)"
   ]
  },
  {
   "cell_type": "code",
   "execution_count": 136,
   "id": "71306b5f",
   "metadata": {},
   "outputs": [
    {
     "name": "stdout",
     "output_type": "stream",
     "text": [
      "Sample input size:  torch.Size([50, 321])\n",
      "Sample input: \n",
      " tensor([[ 5821, 22687, 22529,  ...,     0,     0,     0],\n",
      "        [  525,  4807,   525,  ...,     0,     0,     0],\n",
      "        [18152,  1033, 14041,  ...,     0,     0,     0],\n",
      "        ...,\n",
      "        [22891, 27825, 19956,  ...,     0,     0,     0],\n",
      "        [  242,  5439,  4320,  ...,     0,     0,     0],\n",
      "        [23313, 18308, 19198,  ...,     0,     0,     0]])\n",
      "\n",
      "Sample score size:  torch.Size([50])\n",
      "Sample score: \n",
      " tensor([0.7500, 1.0000, 1.0000, 0.4600, 0.7100, 1.0000, 0.7500, 0.9600, 0.9600,\n",
      "        0.7500, 0.9600, 0.7900, 1.0000, 0.9200, 0.5800, 0.5000, 0.9200, 0.9200,\n",
      "        0.7500, 0.7500, 0.5000, 0.8800, 0.9600, 0.8800, 0.8800, 0.9200, 0.8800,\n",
      "        1.0000, 0.9200, 1.0000, 0.7500, 0.9600, 0.5400, 0.5400, 1.0000, 0.7100,\n",
      "        0.4200, 0.8800, 0.4200, 0.9200, 1.0000, 0.8300, 0.9200, 1.0000, 0.9200,\n",
      "        0.8800, 0.8300, 0.9200, 0.9600, 0.9200], dtype=torch.float64)\n"
     ]
    }
   ],
   "source": [
    "dataiter = iter(train_dataloader)\n",
    "sample_x, sample_y = dataiter.next()\n",
    "\n",
    "print('Sample input size: ', sample_x.size()) # batch_size, seq_length\n",
    "print('Sample input: \\n', sample_x)\n",
    "print()\n",
    "print('Sample score size: ', sample_y.size()) # batch_size\n",
    "print('Sample score: \\n', sample_y)"
   ]
  },
  {
   "cell_type": "code",
   "execution_count": 137,
   "id": "5b744f11",
   "metadata": {},
   "outputs": [
    {
     "name": "stdout",
     "output_type": "stream",
     "text": [
      "Training on GPU.\n"
     ]
    }
   ],
   "source": [
    "# First checking if GPU is available\n",
    "train_on_gpu=torch.cuda.is_available()\n",
    "if(train_on_gpu):\n",
    "    device = torch.device(\"cuda\")\n",
    "    print('Training on GPU.')\n",
    "else:\n",
    "    device = torch.device(\"cpu\")\n",
    "    print('No GPU available, training on CPU.')"
   ]
  },
  {
   "cell_type": "code",
   "execution_count": 138,
   "id": "5989d027",
   "metadata": {},
   "outputs": [],
   "source": [
    "class SentimentRNN(nn.Module):\n",
    "    def __init__(self, vocab_size, output_size, embedding_dim, hidden_dim, n_layers, drop_prob=0.5):\n",
    "        super(SentimentRNN, self).__init__()\n",
    "        self.output_size = output_size\n",
    "        self.n_layers = n_layers\n",
    "        self.hidden_dim = hidden_dim\n",
    "        self.embedding = nn.Embedding(vocab_size, embedding_dim)\n",
    "        self.lstm = nn.LSTM(embedding_dim, hidden_dim, n_layers,\n",
    "                            dropout=drop_prob, batch_first=True)\n",
    "        \n",
    "        self.dropout = nn.Dropout(0.3)\n",
    "        self.fc = nn.Linear(hidden_dim, output_size)\n",
    "        self.sig = nn.Sigmoid()\n",
    "\n",
    "    def forward(self, x, hidden):\n",
    "        batch_size = x.size(0)\n",
    "        \n",
    "        embeds = self.embedding(x)\n",
    "        lstm_out, hidden = self.lstm(embeds, hidden)\n",
    "        \n",
    "        lstm_out = lstm_out.contiguous().view(-1, self.hidden_dim)\n",
    "        out = self.dropout(lstm_out)\n",
    "        out = self.fc(out)\n",
    "        sig_out = self.sig(out)\n",
    "        sig_out = sig_out.view(batch_size, -1)\n",
    "        sig_out = sig_out[:, -1]  # TODO * 10\n",
    "        return sig_out, hidden \n",
    "    \n",
    "    def init_hidden(self, batch_size):\n",
    "        weight = next(self.parameters()).data\n",
    "        \n",
    "        if(train_on_gpu):\n",
    "            hidden = (weight.new(self.n_layers, batch_size, self.hidden_dim).zero_().cuda(),\n",
    "                   weight.new(self.n_layers, batch_size, self.hidden_dim).zero_().cuda())\n",
    "        else:\n",
    "            hidden = (weight.new(self.n_layers, batch_size, self.hidden_dim).zero_(),\n",
    "                   weight.new(self.n_layers, batch_size, self.hidden_dim).zero_())\n",
    "        return hidden"
   ]
  },
  {
   "cell_type": "code",
   "execution_count": 139,
   "id": "d219ba0f",
   "metadata": {},
   "outputs": [
    {
     "name": "stdout",
     "output_type": "stream",
     "text": [
      "SentimentRNN(\n",
      "  (embedding): Embedding(32755, 400)\n",
      "  (lstm): LSTM(400, 256, num_layers=2, batch_first=True, dropout=0.5)\n",
      "  (dropout): Dropout(p=0.3, inplace=False)\n",
      "  (fc): Linear(in_features=256, out_features=1, bias=True)\n",
      "  (sig): Sigmoid()\n",
      ")\n"
     ]
    }
   ],
   "source": [
    "vocab_size = len(word2int) + 1\n",
    "output_size = 1\n",
    "embedding_dim = 400 \n",
    "hidden_dim = 256\n",
    "n_layers = 2\n",
    "\n",
    "net = SentimentRNN(vocab_size, output_size, embedding_dim, hidden_dim, n_layers)\n",
    "#net.to(device)\n",
    "print(net)"
   ]
  },
  {
   "cell_type": "code",
   "execution_count": 140,
   "id": "715d4b68",
   "metadata": {},
   "outputs": [],
   "source": [
    "lr=0.01\n",
    "criterion = nn.L1Loss() \n",
    "optimizer = torch.optim.Adam(net.parameters(), lr=lr)"
   ]
  },
  {
   "cell_type": "code",
   "execution_count": 141,
   "id": "8b21d74f",
   "metadata": {},
   "outputs": [
    {
     "ename": "KeyboardInterrupt",
     "evalue": "",
     "output_type": "error",
     "traceback": [
      "\u001b[1;31m---------------------------------------------------------------------------\u001b[0m",
      "\u001b[1;31mKeyboardInterrupt\u001b[0m                         Traceback (most recent call last)",
      "\u001b[1;32m~\\AppData\\Local\\Temp/ipykernel_15452/2393056104.py\u001b[0m in \u001b[0;36m<module>\u001b[1;34m\u001b[0m\n\u001b[0;32m     24\u001b[0m         \u001b[0moutput\u001b[0m\u001b[1;33m,\u001b[0m \u001b[0mh\u001b[0m \u001b[1;33m=\u001b[0m \u001b[0mnet\u001b[0m\u001b[1;33m(\u001b[0m\u001b[0minputs\u001b[0m\u001b[1;33m,\u001b[0m \u001b[0mh\u001b[0m\u001b[1;33m)\u001b[0m\u001b[1;33m\u001b[0m\u001b[1;33m\u001b[0m\u001b[0m\n\u001b[0;32m     25\u001b[0m         \u001b[0mloss\u001b[0m \u001b[1;33m=\u001b[0m \u001b[0mcriterion\u001b[0m\u001b[1;33m(\u001b[0m\u001b[0moutput\u001b[0m\u001b[1;33m.\u001b[0m\u001b[0mreshape\u001b[0m\u001b[1;33m(\u001b[0m\u001b[1;33m-\u001b[0m\u001b[1;36m1\u001b[0m\u001b[1;33m,\u001b[0m \u001b[1;36m50\u001b[0m\u001b[1;33m)\u001b[0m\u001b[1;33m,\u001b[0m \u001b[0mlabels\u001b[0m\u001b[1;33m.\u001b[0m\u001b[0mreshape\u001b[0m\u001b[1;33m(\u001b[0m\u001b[1;33m-\u001b[0m\u001b[1;36m1\u001b[0m\u001b[1;33m,\u001b[0m \u001b[1;36m50\u001b[0m\u001b[1;33m)\u001b[0m\u001b[1;33m)\u001b[0m\u001b[1;33m\u001b[0m\u001b[1;33m\u001b[0m\u001b[0m\n\u001b[1;32m---> 26\u001b[1;33m         \u001b[0mloss\u001b[0m\u001b[1;33m.\u001b[0m\u001b[0mbackward\u001b[0m\u001b[1;33m(\u001b[0m\u001b[1;33m)\u001b[0m\u001b[1;33m\u001b[0m\u001b[1;33m\u001b[0m\u001b[0m\n\u001b[0m\u001b[0;32m     27\u001b[0m         \u001b[0mtrain_losses\u001b[0m\u001b[1;33m.\u001b[0m\u001b[0mappend\u001b[0m\u001b[1;33m(\u001b[0m\u001b[0mloss\u001b[0m\u001b[1;33m.\u001b[0m\u001b[0mitem\u001b[0m\u001b[1;33m(\u001b[0m\u001b[1;33m)\u001b[0m\u001b[1;33m)\u001b[0m\u001b[1;33m\u001b[0m\u001b[1;33m\u001b[0m\u001b[0m\n\u001b[0;32m     28\u001b[0m         \u001b[0mnn\u001b[0m\u001b[1;33m.\u001b[0m\u001b[0mutils\u001b[0m\u001b[1;33m.\u001b[0m\u001b[0mclip_grad_norm_\u001b[0m\u001b[1;33m(\u001b[0m\u001b[0mnet\u001b[0m\u001b[1;33m.\u001b[0m\u001b[0mparameters\u001b[0m\u001b[1;33m(\u001b[0m\u001b[1;33m)\u001b[0m\u001b[1;33m,\u001b[0m \u001b[0mclip\u001b[0m\u001b[1;33m)\u001b[0m\u001b[1;33m\u001b[0m\u001b[1;33m\u001b[0m\u001b[0m\n",
      "\u001b[1;32m~\\miniconda3\\lib\\site-packages\\torch\\_tensor.py\u001b[0m in \u001b[0;36mbackward\u001b[1;34m(self, gradient, retain_graph, create_graph, inputs)\u001b[0m\n\u001b[0;32m    305\u001b[0m                 \u001b[0mcreate_graph\u001b[0m\u001b[1;33m=\u001b[0m\u001b[0mcreate_graph\u001b[0m\u001b[1;33m,\u001b[0m\u001b[1;33m\u001b[0m\u001b[1;33m\u001b[0m\u001b[0m\n\u001b[0;32m    306\u001b[0m                 inputs=inputs)\n\u001b[1;32m--> 307\u001b[1;33m         \u001b[0mtorch\u001b[0m\u001b[1;33m.\u001b[0m\u001b[0mautograd\u001b[0m\u001b[1;33m.\u001b[0m\u001b[0mbackward\u001b[0m\u001b[1;33m(\u001b[0m\u001b[0mself\u001b[0m\u001b[1;33m,\u001b[0m \u001b[0mgradient\u001b[0m\u001b[1;33m,\u001b[0m \u001b[0mretain_graph\u001b[0m\u001b[1;33m,\u001b[0m \u001b[0mcreate_graph\u001b[0m\u001b[1;33m,\u001b[0m \u001b[0minputs\u001b[0m\u001b[1;33m=\u001b[0m\u001b[0minputs\u001b[0m\u001b[1;33m)\u001b[0m\u001b[1;33m\u001b[0m\u001b[1;33m\u001b[0m\u001b[0m\n\u001b[0m\u001b[0;32m    308\u001b[0m \u001b[1;33m\u001b[0m\u001b[0m\n\u001b[0;32m    309\u001b[0m     \u001b[1;32mdef\u001b[0m \u001b[0mregister_hook\u001b[0m\u001b[1;33m(\u001b[0m\u001b[0mself\u001b[0m\u001b[1;33m,\u001b[0m \u001b[0mhook\u001b[0m\u001b[1;33m)\u001b[0m\u001b[1;33m:\u001b[0m\u001b[1;33m\u001b[0m\u001b[1;33m\u001b[0m\u001b[0m\n",
      "\u001b[1;32m~\\miniconda3\\lib\\site-packages\\torch\\autograd\\__init__.py\u001b[0m in \u001b[0;36mbackward\u001b[1;34m(tensors, grad_tensors, retain_graph, create_graph, grad_variables, inputs)\u001b[0m\n\u001b[0;32m    152\u001b[0m         \u001b[0mretain_graph\u001b[0m \u001b[1;33m=\u001b[0m \u001b[0mcreate_graph\u001b[0m\u001b[1;33m\u001b[0m\u001b[1;33m\u001b[0m\u001b[0m\n\u001b[0;32m    153\u001b[0m \u001b[1;33m\u001b[0m\u001b[0m\n\u001b[1;32m--> 154\u001b[1;33m     Variable._execution_engine.run_backward(\n\u001b[0m\u001b[0;32m    155\u001b[0m         \u001b[0mtensors\u001b[0m\u001b[1;33m,\u001b[0m \u001b[0mgrad_tensors_\u001b[0m\u001b[1;33m,\u001b[0m \u001b[0mretain_graph\u001b[0m\u001b[1;33m,\u001b[0m \u001b[0mcreate_graph\u001b[0m\u001b[1;33m,\u001b[0m \u001b[0minputs\u001b[0m\u001b[1;33m,\u001b[0m\u001b[1;33m\u001b[0m\u001b[1;33m\u001b[0m\u001b[0m\n\u001b[0;32m    156\u001b[0m         allow_unreachable=True, accumulate_grad=True)  # allow_unreachable flag\n",
      "\u001b[1;31mKeyboardInterrupt\u001b[0m: "
     ]
    }
   ],
   "source": [
    "epochs = 4 # 3-4 is approx where I noticed the validation loss stop decreasing\n",
    "counter = 0\n",
    "print_every = 100\n",
    "clip=5 # gradient clipping\n",
    "\n",
    "if(train_on_gpu):\n",
    "    net.cuda()\n",
    "\n",
    "\n",
    "for e in range(epochs):\n",
    "    net.train()\n",
    "    h = net.init_hidden(batch_size)\n",
    "    train_losses = []\n",
    "    for inputs, labels in train_dataloader:\n",
    "        labels = labels.float()\n",
    "        #counter += 1 TODO\n",
    "\n",
    "        if(train_on_gpu):\n",
    "            inputs, labels = inputs.cuda(), labels.cuda()\n",
    "\n",
    "        h = tuple([each.data for each in h])\n",
    "        net.zero_grad()\n",
    "\n",
    "        output, h = net(inputs, h)\n",
    "        loss = criterion(output.reshape(-1, 50), labels.reshape(-1, 50))\n",
    "        loss.backward()\n",
    "        train_losses.append(loss.item())\n",
    "        nn.utils.clip_grad_norm_(net.parameters(), clip)\n",
    "        optimizer.step()\n",
    "    if True:\n",
    "        val_h = net.init_hidden(batch_size)\n",
    "        val_losses = []\n",
    "        net.eval()\n",
    "        for inputs, labels in test_dataloader:\n",
    "            val_h = tuple([each.data for each in val_h])\n",
    "            if(train_on_gpu):\n",
    "                inputs, labels = inputs.cuda(), labels.cuda()\n",
    "            output, val_h = net(inputs, val_h)\n",
    "            val_loss = criterion(output.reshape(-1, 50), labels.reshape(-1, 50))\n",
    "            val_losses.append(val_loss.item())\n",
    "\n",
    "        net.train()\n",
    "        print(\"Epoch: {}/{}...\".format(e+1, epochs),\n",
    "              #\"Step: {}...\".format(counter),\n",
    "              \"Loss: {:.6f}...\".format(np.mean(train_losses)),\n",
    "              \"Val Loss: {:.6f}\".format(np.mean(val_losses)))"
   ]
  },
  {
   "cell_type": "code",
   "execution_count": null,
   "id": "3e8d98a0",
   "metadata": {},
   "outputs": [],
   "source": []
  }
 ],
 "metadata": {
  "kernelspec": {
   "display_name": "Python 3 (ipykernel)",
   "language": "python",
   "name": "python3"
  },
  "language_info": {
   "codemirror_mode": {
    "name": "ipython",
    "version": 3
   },
   "file_extension": ".py",
   "mimetype": "text/x-python",
   "name": "python",
   "nbconvert_exporter": "python",
   "pygments_lexer": "ipython3",
   "version": "3.9.7"
  }
 },
 "nbformat": 4,
 "nbformat_minor": 5
}
